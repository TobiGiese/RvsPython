{
 "cells": [
  {
   "cell_type": "markdown",
   "metadata": {},
   "source": [
    "# Generalized Linear Models"
   ]
  },
  {
   "cell_type": "markdown",
   "metadata": {},
   "source": [
    "## Logit Models"
   ]
  },
  {
   "cell_type": "code",
   "execution_count": 61,
   "metadata": {},
   "outputs": [
    {
     "name": "stdout",
     "output_type": "stream",
     "text": [
      "full data set:  (3490, 793)\n",
      "[nan  1.  2.  4.  3.  6.  5.  9.  8. 12.  7. 18. 11. 10.]\n",
      "[0 1]\n"
     ]
    },
    {
     "name": "stderr",
     "output_type": "stream",
     "text": [
      "/home/tobias_giesemann/.local/lib/python3.6/site-packages/ipykernel_launcher.py:16: UserWarning: Pandas doesn't allow columns to be created via a new attribute name - see https://pandas.pydata.org/pandas-docs/stable/indexing.html#attribute-access\n",
      "  app.launch_new_instance()\n"
     ]
    },
    {
     "data": {
      "text/html": [
       "<div>\n",
       "<style scoped>\n",
       "    .dataframe tbody tr th:only-of-type {\n",
       "        vertical-align: middle;\n",
       "    }\n",
       "\n",
       "    .dataframe tbody tr th {\n",
       "        vertical-align: top;\n",
       "    }\n",
       "\n",
       "    .dataframe thead th {\n",
       "        text-align: right;\n",
       "    }\n",
       "</style>\n",
       "<table border=\"1\" class=\"dataframe\">\n",
       "  <thead>\n",
       "    <tr style=\"text-align: right;\">\n",
       "      <th></th>\n",
       "      <th>eastwest</th>\n",
       "      <th>sex</th>\n",
       "      <th>age</th>\n",
       "      <th>lt15</th>\n",
       "      <th>any_contact</th>\n",
       "    </tr>\n",
       "  </thead>\n",
       "  <tbody>\n",
       "    <tr>\n",
       "      <th>0</th>\n",
       "      <td>NEUE BUNDESLAENDER</td>\n",
       "      <td>FRAU</td>\n",
       "      <td>47.0</td>\n",
       "      <td>NaN</td>\n",
       "      <td>0</td>\n",
       "    </tr>\n",
       "    <tr>\n",
       "      <th>1</th>\n",
       "      <td>NEUE BUNDESLAENDER</td>\n",
       "      <td>MANN</td>\n",
       "      <td>52.0</td>\n",
       "      <td>NaN</td>\n",
       "      <td>0</td>\n",
       "    </tr>\n",
       "    <tr>\n",
       "      <th>2</th>\n",
       "      <td>ALTE BUNDESLAENDER</td>\n",
       "      <td>MANN</td>\n",
       "      <td>61.0</td>\n",
       "      <td>1.0</td>\n",
       "      <td>1</td>\n",
       "    </tr>\n",
       "    <tr>\n",
       "      <th>3</th>\n",
       "      <td>ALTE BUNDESLAENDER</td>\n",
       "      <td>FRAU</td>\n",
       "      <td>54.0</td>\n",
       "      <td>NaN</td>\n",
       "      <td>0</td>\n",
       "    </tr>\n",
       "    <tr>\n",
       "      <th>4</th>\n",
       "      <td>ALTE BUNDESLAENDER</td>\n",
       "      <td>MANN</td>\n",
       "      <td>71.0</td>\n",
       "      <td>NaN</td>\n",
       "      <td>0</td>\n",
       "    </tr>\n",
       "  </tbody>\n",
       "</table>\n",
       "</div>"
      ],
      "text/plain": [
       "             eastwest   sex   age  lt15  any_contact\n",
       "0  NEUE BUNDESLAENDER  FRAU  47.0   NaN            0\n",
       "1  NEUE BUNDESLAENDER  MANN  52.0   NaN            0\n",
       "2  ALTE BUNDESLAENDER  MANN  61.0   1.0            1\n",
       "3  ALTE BUNDESLAENDER  FRAU  54.0   NaN            0\n",
       "4  ALTE BUNDESLAENDER  MANN  71.0   NaN            0"
      ]
     },
     "execution_count": 61,
     "metadata": {},
     "output_type": "execute_result"
    }
   ],
   "source": [
    "import pandas as pd\n",
    "import seaborn as sns\n",
    "from statsmodels.formula.api import logit, glm\n",
    "import statsmodels.api as sm\n",
    "\n",
    "from plotnine import *\n",
    "\n",
    "# import data set, set directory\n",
    "home_dir = \"/home/tobias_giesemann/Dropbox/Uni_Master/02SS19/01Advanced_Statistical_Modelling/Essay/\"\n",
    "\n",
    "# using pandas dataframe as a similar data structure to R dataframes\n",
    "allbus_df = pd.read_csv(home_dir+\"data/allbus_full.csv\")\n",
    "print(\"full data set: \", allbus_df.shape)\n",
    "allbus_df = allbus_df[[\"eastwest\",\"sex\",\"age\",\"lt15\"]]\n",
    "allbus_df.contacts = allbus_df.lt15\n",
    "allbus_df[\"any_contact\"] = 0\n",
    "allbus_df.loc[allbus_df.contacts >0, \"any_contact\"] = 1\n",
    "\n",
    "print(allbus_df.contacts.unique())\n",
    "print(allbus_df.any_contact.unique())\n",
    "\n",
    "\n",
    "#show head\n",
    "allbus_df.head()\n"
   ]
  },
  {
   "cell_type": "code",
   "execution_count": 58,
   "metadata": {},
   "outputs": [
    {
     "name": "stderr",
     "output_type": "stream",
     "text": [
      "/home/tobias_giesemann/.local/lib/python3.6/site-packages/mizani/bounds.py:352: RuntimeWarning: invalid value encountered in less\n",
      "  outside = (x < range[0]) | (x > range[1])\n",
      "/home/tobias_giesemann/.local/lib/python3.6/site-packages/mizani/bounds.py:352: RuntimeWarning: invalid value encountered in greater\n",
      "  outside = (x < range[0]) | (x > range[1])\n",
      "/home/tobias_giesemann/.local/lib/python3.6/site-packages/matplotlib/colors.py:527: RuntimeWarning: invalid value encountered in less\n",
      "  xa[xa < 0] = -1\n",
      "/home/tobias_giesemann/.local/lib/python3.6/site-packages/plotnine/layer.py:449: UserWarning: geom_point : Removed 1756 rows containing missing values.\n",
      "  self.data = self.geom.handle_na(self.data)\n",
      "/home/tobias_giesemann/.local/lib/python3.6/site-packages/plotnine/utils.py:553: MatplotlibDeprecationWarning: \n",
      "The iterable function was deprecated in Matplotlib 3.1 and will be removed in 3.3. Use np.iterable instead.\n",
      "  return cbook.iterable(var) and not is_string(var)\n"
     ]
    },
    {
     "data": {
      "image/png": "[encoded data removed]",
      "text/plain": [
       "<Figure size 640x480 with 1 Axes>"
      ]
     },
     "metadata": {},
     "output_type": "display_data"
    },
    {
     "data": {
      "text/plain": [
       "<ggplot: (8771815829859)>"
      ]
     },
     "execution_count": 58,
     "metadata": {},
     "output_type": "execute_result"
    }
   ],
   "source": [
    "allbus_df[\"age_cat\"] = pd.cut(allbus_df.age, [17,30,40,50,60,70,100])\n",
    "\n",
    "(ggplot(data = allbus_df, \n",
    "       mapping = aes(x = \"age_cat\",\n",
    "                    y = \"lt15\"))\n",
    " +geom_point(mapping=aes(color=allbus_df[\"lt15\"]))\n",
    ")\n"
   ]
  },
  {
   "cell_type": "markdown",
   "metadata": {},
   "source": [
    "## Probit Modell"
   ]
  },
  {
   "cell_type": "code",
   "execution_count": 79,
   "metadata": {},
   "outputs": [
    {
     "name": "stdout",
     "output_type": "stream",
     "text": [
      "                 Generalized Linear Model Regression Results                  \n",
      "==============================================================================\n",
      "Dep. Variable:            any_contact   No. Observations:                 3486\n",
      "Model:                            GLM   Df Residuals:                     3482\n",
      "Model Family:                Binomial   Df Model:                            3\n",
      "Link Function:                 probit   Scale:                          1.0000\n",
      "Method:                          IRLS   Log-Likelihood:                -2288.8\n",
      "Date:                Thu, 25 Jul 2019   Deviance:                       4577.6\n",
      "Time:                        22:18:47   Pearson chi2:                 3.49e+03\n",
      "No. Iterations:                     5                                         \n",
      "Covariance Type:            nonrobust                                         \n",
      "==================================================================================================\n",
      "                                     coef    std err          z      P>|z|      [0.025      0.975]\n",
      "--------------------------------------------------------------------------------------------------\n",
      "Intercept                          0.7664      0.071     10.745      0.000       0.627       0.906\n",
      "sex[T.MANN]                       -0.0074      0.043     -0.170      0.865      -0.092       0.078\n",
      "eastwest[T.NEUE BUNDESLAENDER]    -0.5642      0.046    -12.145      0.000      -0.655      -0.473\n",
      "age                               -0.0114      0.001     -9.150      0.000      -0.014      -0.009\n",
      "==================================================================================================\n"
     ]
    },
    {
     "name": "stderr",
     "output_type": "stream",
     "text": [
      "/home/tobias_giesemann/.local/lib/python3.6/site-packages/ipykernel_launcher.py:4: DeprecationWarning: Calling Family(..) with a link class as argument is deprecated.\n",
      "Use an instance of a link class instead.\n",
      "  after removing the cwd from sys.path.\n"
     ]
    }
   ],
   "source": [
    "# Probit Modell als GLM\n",
    "\n",
    "\n",
    "probit_model = glm(\"any_contact ~ age + sex + eastwest\", data = allbus_df, family = sm.families.Binomial(link=sm.families.links.probit)).fit()\n",
    "print(probit_model.summary())\n"
   ]
  },
  {
   "cell_type": "markdown",
   "metadata": {},
   "source": [
    "## Logit Modell"
   ]
  },
  {
   "cell_type": "code",
   "execution_count": 88,
   "metadata": {},
   "outputs": [
    {
     "name": "stdout",
     "output_type": "stream",
     "text": [
      "                 Generalized Linear Model Regression Results                  \n",
      "==============================================================================\n",
      "Dep. Variable:            any_contact   No. Observations:                 3486\n",
      "Model:                            GLM   Df Residuals:                     3482\n",
      "Model Family:                Binomial   Df Model:                            3\n",
      "Link Function:                  logit   Scale:                          1.0000\n",
      "Method:                          IRLS   Log-Likelihood:                -2288.7\n",
      "Date:                Thu, 25 Jul 2019   Deviance:                       4577.5\n",
      "Time:                        22:33:19   Pearson chi2:                 3.49e+03\n",
      "No. Iterations:                     4                                         \n",
      "Covariance Type:            nonrobust                                         \n",
      "==================================================================================================\n",
      "                                     coef    std err          z      P>|z|      [0.025      0.975]\n",
      "--------------------------------------------------------------------------------------------------\n",
      "Intercept                          1.2419      0.117     10.651      0.000       1.013       1.470\n",
      "sex[T.MANN]                       -0.0115      0.070     -0.163      0.871      -0.149       0.126\n",
      "eastwest[T.NEUE BUNDESLAENDER]    -0.9089      0.076    -12.021      0.000      -1.057      -0.761\n",
      "age                               -0.0186      0.002     -9.120      0.000      -0.023      -0.015\n",
      "==================================================================================================\n",
      "Maximal beobachtbare Effekte der Einflussgrößen: \n",
      " Intercept                         0.310475\n",
      "sex[T.MANN]                      -0.002864\n",
      "eastwest[T.NEUE BUNDESLAENDER]   -0.227232\n",
      "age                              -0.004643\n",
      "dtype: float64\n",
      "Multiplikative Effektinterpretation: \n",
      " Intercept                         246.218916\n",
      "sex[T.MANN]                        -1.139177\n",
      "eastwest[T.NEUE BUNDESLAENDER]    -59.704452\n",
      "age                                -1.840169\n",
      "dtype: float64\n",
      "Optimization terminated successfully.\n",
      "         Current function value: 0.656554\n",
      "         Iterations 5\n",
      "                           Logit Regression Results                           \n",
      "==============================================================================\n",
      "Dep. Variable:            any_contact   No. Observations:                 3486\n",
      "Model:                          Logit   Df Residuals:                     3482\n",
      "Method:                           MLE   Df Model:                            3\n",
      "Date:                Thu, 25 Jul 2019   Pseudo R-squ.:                 0.05277\n",
      "Time:                        22:33:20   Log-Likelihood:                -2288.7\n",
      "converged:                       True   LL-Null:                       -2416.3\n",
      "Covariance Type:            nonrobust   LLR p-value:                 5.390e-55\n",
      "==================================================================================================\n",
      "                                     coef    std err          z      P>|z|      [0.025      0.975]\n",
      "--------------------------------------------------------------------------------------------------\n",
      "Intercept                          1.2419      0.117     10.651      0.000       1.013       1.470\n",
      "sex[T.MANN]                       -0.0115      0.070     -0.163      0.871      -0.149       0.126\n",
      "eastwest[T.NEUE BUNDESLAENDER]    -0.9089      0.076    -12.021      0.000      -1.057      -0.761\n",
      "age                               -0.0186      0.002     -9.120      0.000      -0.023      -0.015\n",
      "==================================================================================================\n",
      "                                   dy/dx  Std. Err.          z      Pr(>|z|)  \\\n",
      "sex[T.MANN]                    -0.002660   0.016330  -0.162902  8.705953e-01   \n",
      "eastwest[T.NEUE BUNDESLAENDER] -0.211037   0.016105 -13.104195  3.115508e-39   \n",
      "age                            -0.004312   0.000451  -9.559622  1.181875e-21   \n",
      "\n",
      "                                Conf. Int. Low  Cont. Int. Hi.  \n",
      "sex[T.MANN]                          -0.034666        0.029345  \n",
      "eastwest[T.NEUE BUNDESLAENDER]       -0.242602       -0.179473  \n",
      "age                                  -0.005196       -0.003428  \n"
     ]
    },
    {
     "name": "stderr",
     "output_type": "stream",
     "text": [
      "/home/tobias_giesemann/.local/lib/python3.6/site-packages/ipykernel_launcher.py:1: DeprecationWarning: Calling Family(..) with a link class as argument is deprecated.\n",
      "Use an instance of a link class instead.\n",
      "  \"\"\"Entry point for launching an IPython kernel.\n"
     ]
    }
   ],
   "source": [
    "#selbiges Modell wie oben\n",
    "logit_model = glm(\"any_contact ~ age + sex + eastwest\", data = allbus_df, \n",
    "                  family = sm.families.Binomial(link=sm.families.links.logit # or None, da logit default für Binomialfamilie\n",
    "                                                )).fit()\n",
    "print(logit_model.summary())\n",
    "\n",
    "print(\"Maximal beobachtbare Effekte der Einflussgrößen: \\n\",0.25*logit_model.params)\n",
    "print(\"Multiplikative Effektinterpretation: \\n\", (np.exp(logit_model.params)-1)*100)\n",
    "\n",
    "# Margins konnten leider nicht herausgearbeitet werden, da ist die Dokumentation unvollständig, \n",
    "# allerdings funktioniert es für das logit modell über einen Umweg:\n",
    "\n",
    "logit_model2 = logit(\"any_contact ~ age + sex + eastwest\", allbus_df).fit()\n",
    "print(logit_model2.summary())\n",
    "\n",
    "margins = logit_model2.get_margeff().summary_frame()\n",
    "print(margins)"
   ]
  },
  {
   "cell_type": "markdown",
   "metadata": {},
   "source": [
    "## Poisson -Regression"
   ]
  },
  {
   "cell_type": "code",
   "execution_count": 99,
   "metadata": {},
   "outputs": [
    {
     "name": "stdout",
     "output_type": "stream",
     "text": [
      "                 Generalized Linear Model Regression Results                  \n",
      "==============================================================================\n",
      "Dep. Variable:                   lt15   No. Observations:                 1733\n",
      "Model:                            GLM   Df Residuals:                     1729\n",
      "Model Family:                 Poisson   Df Model:                            3\n",
      "Link Function:                    log   Scale:                          1.0000\n",
      "Method:                          IRLS   Log-Likelihood:                -2858.5\n",
      "Date:                Thu, 25 Jul 2019   Deviance:                       1447.2\n",
      "Time:                        23:28:51   Pearson chi2:                 1.85e+03\n",
      "No. Iterations:                     4                                         \n",
      "Covariance Type:            nonrobust                                         \n",
      "==================================================================================================\n",
      "                                     coef    std err          z      P>|z|      [0.025      0.975]\n",
      "--------------------------------------------------------------------------------------------------\n",
      "Intercept                          0.9280      0.052     17.816      0.000       0.826       1.030\n",
      "sex[T.MANN]                        0.0219      0.034      0.650      0.516      -0.044       0.088\n",
      "eastwest[T.NEUE BUNDESLAENDER]    -0.1311      0.042     -3.150      0.002      -0.213      -0.050\n",
      "age                               -0.0043      0.001     -4.381      0.000      -0.006      -0.002\n",
      "==================================================================================================\n",
      "Multiplikative Effektinterpretation: \n",
      " Intercept                         152.942160\n",
      "sex[T.MANN]                         2.218618\n",
      "eastwest[T.NEUE BUNDESLAENDER]    -12.290349\n",
      "age                                -0.428598\n",
      "dtype: float64\n"
     ]
    }
   ],
   "source": [
    "#selbiges Modell wie oben\n",
    "logit_model = glm(\"lt15 ~ age + sex + eastwest\", data = allbus_df, \n",
    "                  family = sm.families.Poisson()).fit()\n",
    "print(logit_model.summary())\n",
    "\n",
    "print(\"Multiplikative Effektinterpretation: \\n\", (np.exp(logit_model.params)-1)*100)\n",
    "\n"
   ]
  },
  {
   "cell_type": "markdown",
   "metadata": {},
   "source": [
    "Hier funktioniert der Trick nicht, ein einfacheres Modell zur Margin Schätzung zu verwenden. Die müsste man dann wohl zu Fuß berechnen."
   ]
  },
  {
   "cell_type": "markdown",
   "metadata": {},
   "source": [
    "## Negativ-Binomial- Regression"
   ]
  },
  {
   "cell_type": "code",
   "execution_count": 101,
   "metadata": {},
   "outputs": [
    {
     "name": "stdout",
     "output_type": "stream",
     "text": [
      "                 Generalized Linear Model Regression Results                  \n",
      "==============================================================================\n",
      "Dep. Variable:                   lt15   No. Observations:                 1733\n",
      "Model:                            GLM   Df Residuals:                     1729\n",
      "Model Family:        NegativeBinomial   Df Model:                            3\n",
      "Link Function:                    log   Scale:                          1.0000\n",
      "Method:                          IRLS   Log-Likelihood:                -3323.1\n",
      "Date:                Thu, 25 Jul 2019   Deviance:                       438.23\n",
      "Time:                        23:29:41   Pearson chi2:                     610.\n",
      "No. Iterations:                     5                                         \n",
      "Covariance Type:            nonrobust                                         \n",
      "==================================================================================================\n",
      "                                     coef    std err          z      P>|z|      [0.025      0.975]\n",
      "--------------------------------------------------------------------------------------------------\n",
      "Intercept                          0.9326      0.092     10.179      0.000       0.753       1.112\n",
      "sex[T.MANN]                        0.0227      0.059      0.386      0.699      -0.093       0.138\n",
      "eastwest[T.NEUE BUNDESLAENDER]    -0.1338      0.071     -1.892      0.059      -0.272       0.005\n",
      "age                               -0.0044      0.002     -2.584      0.010      -0.008      -0.001\n",
      "==================================================================================================\n",
      "Multiplikative Effektinterpretation: \n",
      " Intercept                         154.116026\n",
      "sex[T.MANN]                         2.297112\n",
      "eastwest[T.NEUE BUNDESLAENDER]    -12.522152\n",
      "age                                -0.437916\n",
      "dtype: float64\n"
     ]
    }
   ],
   "source": [
    "#selbiges Modell wie oben\n",
    "logit_model = glm(\"lt15 ~ age + sex + eastwest\", data = allbus_df, \n",
    "                  family = sm.families.NegativeBinomial()).fit()\n",
    "print(logit_model.summary())\n",
    "\n",
    "print(\"Multiplikative Effektinterpretation: \\n\", (np.exp(logit_model.params)-1)*100)\n",
    "\n"
   ]
  }
 ],
 "metadata": {
  "kernelspec": {
   "display_name": "Python 3",
   "language": "python",
   "name": "python3"
  },
  "language_info": {
   "codemirror_mode": {
    "name": "ipython",
    "version": 3
   },
   "file_extension": ".py",
   "mimetype": "text/x-python",
   "name": "python",
   "nbconvert_exporter": "python",
   "pygments_lexer": "ipython3",
   "version": "3.6.8"
  }
 },
 "nbformat": 4,
 "nbformat_minor": 4
}
